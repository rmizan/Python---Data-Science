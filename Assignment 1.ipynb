{
 "cells": [
  {
   "cell_type": "markdown",
   "metadata": {},
   "source": [
    "# Assignment 1 - Basic Python"
   ]
  },
  {
   "cell_type": "markdown",
   "metadata": {},
   "source": [
    "### Written By Mizanur Rahman"
   ]
  },
  {
   "cell_type": "markdown",
   "metadata": {},
   "source": [
    "## Problem 1.\n",
    "\n",
    "\n",
    "Prompt the user for an integer A and an integer B. Determine which of these is true (more than one may be true!)\n",
    "\n",
    "    if A is a multiple of B\n",
    "    if B is a multiple of A\n",
    "    neither A nor B is a multiple of one another\n",
    "\n",
    "NOTE: more than one may be true. Also, watch out for 0's.\n"
   ]
  },
  {
   "cell_type": "code",
   "execution_count": 37,
   "metadata": {},
   "outputs": [
    {
     "name": "stdout",
     "output_type": "stream",
     "text": [
      "Please Enter a value for a: 3\n",
      "Please Enter a value for b: 9\n",
      "B is the Multiple of A = 9\n"
     ]
    }
   ],
   "source": [
    "a = int(input(\"Please Enter a value for a: \"))\n",
    "b = int(input(\"Please Enter a value for b: \"))\n",
    "\n",
    "if a%b==0:\n",
    "    print(\"A is the multiple of B =\", a)\n",
    "elif b%a==0:\n",
    "    print(\"B is the Multiple of A =\", b)\n",
    "else:\n",
    "   print(\"neither A nor B is a multiple of one another\") \n",
    "\n"
   ]
  },
  {
   "cell_type": "markdown",
   "metadata": {},
   "source": [
    "## Problem 2.\n",
    "Write a while-loop to calculate the sum of all the integers from 1 up to and including 100."
   ]
  },
  {
   "cell_type": "code",
   "execution_count": 38,
   "metadata": {},
   "outputs": [
    {
     "name": "stdout",
     "output_type": "stream",
     "text": [
      "The sum is: 5050\n"
     ]
    }
   ],
   "source": [
    "sum = 0\n",
    "counter = 1\n",
    "while counter <= 100:\n",
    "    #print(counter)\n",
    "    sum = sum + counter\n",
    "    counter  += 1\n",
    "print(\"The sum is:\", sum)\n",
    "#print(\"Done!\")"
   ]
  },
  {
   "cell_type": "markdown",
   "metadata": {},
   "source": [
    "## Problem 3.\n",
    "Calculate the sum of all the integers from 1 up to and including 100, except those that are multiples of 7."
   ]
  },
  {
   "cell_type": "code",
   "execution_count": 39,
   "metadata": {},
   "outputs": [
    {
     "name": "stdout",
     "output_type": "stream",
     "text": [
      "0\n",
      "\n",
      "1\n",
      "\n",
      "3\n",
      "\n",
      "6\n",
      "\n",
      "10\n",
      "\n",
      "15\n",
      "\n",
      "21\n",
      "\n",
      "28\n",
      "\n",
      "36\n",
      "\n",
      "45\n",
      "\n",
      "55\n",
      "\n",
      "66\n",
      "\n",
      "78\n",
      "\n",
      "91\n",
      "\n",
      "105\n",
      "\n",
      "120\n",
      "\n",
      "136\n",
      "\n",
      "153\n",
      "\n",
      "171\n",
      "\n",
      "190\n",
      "\n",
      "210\n",
      "\n",
      "231\n",
      "\n",
      "253\n",
      "\n",
      "276\n",
      "\n",
      "300\n",
      "\n",
      "325\n",
      "\n",
      "351\n",
      "\n",
      "378\n",
      "\n",
      "406\n",
      "\n",
      "435\n",
      "\n",
      "465\n",
      "\n",
      "496\n",
      "\n",
      "528\n",
      "\n",
      "561\n",
      "\n",
      "595\n",
      "\n",
      "630\n",
      "\n",
      "666\n",
      "\n",
      "703\n",
      "\n",
      "741\n",
      "\n",
      "780\n",
      "\n",
      "820\n",
      "\n",
      "861\n",
      "\n",
      "903\n",
      "\n",
      "946\n",
      "\n",
      "990\n",
      "\n",
      "1035\n",
      "\n",
      "1081\n",
      "\n",
      "1128\n",
      "\n",
      "1176\n",
      "\n",
      "1225\n",
      "\n",
      "1275\n",
      "\n",
      "1326\n",
      "\n",
      "1378\n",
      "\n",
      "1431\n",
      "\n",
      "1485\n",
      "\n",
      "1540\n",
      "\n",
      "1596\n",
      "\n",
      "1653\n",
      "\n",
      "1711\n",
      "\n",
      "1770\n",
      "\n",
      "1830\n",
      "\n",
      "1891\n",
      "\n",
      "1953\n",
      "\n",
      "2016\n",
      "\n",
      "2080\n",
      "\n",
      "2145\n",
      "\n",
      "2211\n",
      "\n",
      "2278\n",
      "\n",
      "2346\n",
      "\n",
      "2415\n",
      "\n",
      "2485\n",
      "\n",
      "2556\n",
      "\n",
      "2628\n",
      "\n",
      "2701\n",
      "\n",
      "2775\n",
      "\n",
      "2850\n",
      "\n",
      "2926\n",
      "\n",
      "3003\n",
      "\n",
      "3081\n",
      "\n",
      "3160\n",
      "\n",
      "3240\n",
      "\n",
      "3321\n",
      "\n",
      "3403\n",
      "\n",
      "3486\n",
      "\n",
      "3570\n",
      "\n",
      "3655\n",
      "\n",
      "3741\n",
      "\n",
      "3828\n",
      "\n",
      "3916\n",
      "\n",
      "4005\n",
      "\n",
      "4095\n",
      "\n",
      "4186\n",
      "\n",
      "4278\n",
      "\n",
      "4371\n",
      "\n",
      "4465\n",
      "\n",
      "4560\n",
      "\n",
      "4656\n",
      "\n",
      "4753\n",
      "\n",
      "4851\n",
      "\n",
      "4950\n",
      "\n",
      "5050\n",
      "\n",
      "The sum of all integers except those of multiple of 7 = 4315\n"
     ]
    }
   ],
   "source": [
    "count = 0\n",
    "\n",
    "for num in range(0,101):\n",
    "    count = count + num\n",
    "    num = num + 1\n",
    "    print(count)\n",
    "    \n",
    "    nsum = 0\n",
    "    for num in range(0,101):\n",
    "        \n",
    "        if num % 7 == 0:\n",
    "            nsum += num \n",
    "            #print(str(nsum) + \" {:4d} is divisible by 7\".format(num))\n",
    "            \n",
    "    print()        \n",
    "print(\"The sum of all integers except those of multiple of 7 =\", count - nsum)"
   ]
  },
  {
   "cell_type": "markdown",
   "metadata": {},
   "source": [
    "## Problem 4.\n",
    " Copy/paste the data below into a Python cell.\n",
    "\n",
    "         data = [823, 97, 197, 679, 186, 837, 916, 654, 658, 574,\n",
    "                 965, 847, 456, 280, 857, 120, 770, 24, 231, 238,\n",
    "                 295, 846, 120, 25, 772, 779, 219, 524, 643, 990, \n",
    "                 848, 694, 56, 432, 112, 815, 243, 586, 433, 631, \n",
    "                 56, 803, 412, 440, 735, 510, 84, 727, 616, 343, \n",
    "                 426, 671, 950, 244, 827, 1002, 544, 625, 518, 887, \n",
    "                 882, 444, 798, 584, 297, 412, 913, 664, 413, 460, \n",
    "                 960, 801, 889, 250, 732, 104, 653, 891, 53, 356, \n",
    "                 578, 59, 761, 540, 405, 117, 457, 917, 642, 973, \n",
    "                 416, 991, 342, 846, 816, 896, 877, 117, 623, 620, ]\n",
    "         \n",
    "\n",
    "Using the data variable, determine the following:\n",
    "\n",
    "    The number of values in the list, N\n",
    "\n",
    "The two smallest values in the list\n",
    "The two largest values in the list\n",
    "The range of the values in the list, where range=max−min.\n",
    "The average, ¯x, of all the values in the list, where¯x=∑Ni=1xiN\n",
    "The standard deviation, s, of all the values in the list, wheres=√∑Ni=1(xi−¯x)2N−1"
   ]
  },
  {
   "cell_type": "code",
   "execution_count": 40,
   "metadata": {},
   "outputs": [
    {
     "name": "stdout",
     "output_type": "stream",
     "text": [
      "The number of variables in the list N = 100\n"
     ]
    }
   ],
   "source": [
    "data = [823, 97, 197, 679, 186, 837, 916, 654, 658, 574,\n",
    "        965, 847, 456, 280, 857, 120, 770, 24, 231, 238,\n",
    "        295, 846, 120, 25, 772, 779, 219, 524, 643, 990, \n",
    "        848, 694, 56, 432, 112, 815, 243, 586, 433, 631, \n",
    "        56, 803, 412, 440, 735, 510, 84, 727, 616, 343, \n",
    "        426, 671, 950, 244, 827, 1002, 544, 625, 518, 887, \n",
    "        882, 444, 798, 584, 297, 412, 913, 664, 413, 460, \n",
    "        960, 801, 889, 250, 732, 104, 653, 891, 53, 356, \n",
    "        578, 59, 761, 540, 405, 117, 457, 917, 642, 973, \n",
    "        416, 991, 342, 846, 816, 896, 877, 117, 623, 620,]\n",
    "\n",
    "print(\"The number of variables in the list N =\", len(data))\n"
   ]
  },
  {
   "cell_type": "code",
   "execution_count": 41,
   "metadata": {},
   "outputs": [
    {
     "name": "stdout",
     "output_type": "stream",
     "text": [
      "Smallest element is: 24\n"
     ]
    }
   ],
   "source": [
    "print(\"Smallest element is:\", min(data)) "
   ]
  },
  {
   "cell_type": "code",
   "execution_count": 42,
   "metadata": {},
   "outputs": [],
   "source": [
    "data.sort()"
   ]
  },
  {
   "cell_type": "markdown",
   "metadata": {},
   "source": [
    "The two Smallest Values are as follows:"
   ]
  },
  {
   "cell_type": "code",
   "execution_count": 43,
   "metadata": {},
   "outputs": [
    {
     "data": {
      "text/plain": [
       "24"
      ]
     },
     "execution_count": 43,
     "metadata": {},
     "output_type": "execute_result"
    }
   ],
   "source": [
    "data[0]"
   ]
  },
  {
   "cell_type": "code",
   "execution_count": 44,
   "metadata": {},
   "outputs": [
    {
     "data": {
      "text/plain": [
       "25"
      ]
     },
     "execution_count": 44,
     "metadata": {},
     "output_type": "execute_result"
    }
   ],
   "source": [
    "data[1]"
   ]
  },
  {
   "cell_type": "markdown",
   "metadata": {},
   "source": [
    "The two lagest values are as follows:"
   ]
  },
  {
   "cell_type": "code",
   "execution_count": 45,
   "metadata": {},
   "outputs": [
    {
     "data": {
      "text/plain": [
       "1002"
      ]
     },
     "execution_count": 45,
     "metadata": {},
     "output_type": "execute_result"
    }
   ],
   "source": [
    "data[len(data)-1]"
   ]
  },
  {
   "cell_type": "code",
   "execution_count": 46,
   "metadata": {},
   "outputs": [
    {
     "data": {
      "text/plain": [
       "991"
      ]
     },
     "execution_count": 46,
     "metadata": {},
     "output_type": "execute_result"
    }
   ],
   "source": [
    "data[len(data)-2]"
   ]
  },
  {
   "cell_type": "markdown",
   "metadata": {},
   "source": [
    "The range of the values in the list, where range =  max−min"
   ]
  },
  {
   "cell_type": "code",
   "execution_count": 47,
   "metadata": {},
   "outputs": [
    {
     "name": "stdout",
     "output_type": "stream",
     "text": [
      "978\n"
     ]
    }
   ],
   "source": [
    "range_data =max(data)-min(data)\n",
    "print(range_data)"
   ]
  },
  {
   "cell_type": "markdown",
   "metadata": {},
   "source": [
    "The average, ¯x, of all the values in the list:"
   ]
  },
  {
   "cell_type": "code",
   "execution_count": 48,
   "metadata": {},
   "outputs": [
    {
     "data": {
      "text/plain": [
       "[24,\n",
       " 25,\n",
       " 53,\n",
       " 56,\n",
       " 56,\n",
       " 59,\n",
       " 84,\n",
       " 97,\n",
       " 104,\n",
       " 112,\n",
       " 117,\n",
       " 117,\n",
       " 120,\n",
       " 120,\n",
       " 186,\n",
       " 197,\n",
       " 219,\n",
       " 231,\n",
       " 238,\n",
       " 243,\n",
       " 244,\n",
       " 250,\n",
       " 280,\n",
       " 295,\n",
       " 297,\n",
       " 342,\n",
       " 343,\n",
       " 356,\n",
       " 405,\n",
       " 412,\n",
       " 412,\n",
       " 413,\n",
       " 416,\n",
       " 426,\n",
       " 432,\n",
       " 433,\n",
       " 440,\n",
       " 444,\n",
       " 456,\n",
       " 457,\n",
       " 460,\n",
       " 510,\n",
       " 518,\n",
       " 524,\n",
       " 540,\n",
       " 544,\n",
       " 574,\n",
       " 578,\n",
       " 584,\n",
       " 586,\n",
       " 616,\n",
       " 620,\n",
       " 623,\n",
       " 625,\n",
       " 631,\n",
       " 642,\n",
       " 643,\n",
       " 653,\n",
       " 654,\n",
       " 658,\n",
       " 664,\n",
       " 671,\n",
       " 679,\n",
       " 694,\n",
       " 727,\n",
       " 732,\n",
       " 735,\n",
       " 761,\n",
       " 770,\n",
       " 772,\n",
       " 779,\n",
       " 798,\n",
       " 801,\n",
       " 803,\n",
       " 815,\n",
       " 816,\n",
       " 823,\n",
       " 827,\n",
       " 837,\n",
       " 846,\n",
       " 846,\n",
       " 847,\n",
       " 848,\n",
       " 857,\n",
       " 877,\n",
       " 882,\n",
       " 887,\n",
       " 889,\n",
       " 891,\n",
       " 896,\n",
       " 913,\n",
       " 916,\n",
       " 917,\n",
       " 950,\n",
       " 960,\n",
       " 965,\n",
       " 973,\n",
       " 990,\n",
       " 991,\n",
       " 1002]"
      ]
     },
     "execution_count": 48,
     "metadata": {},
     "output_type": "execute_result"
    }
   ],
   "source": [
    "data"
   ]
  },
  {
   "cell_type": "code",
   "execution_count": 49,
   "metadata": {},
   "outputs": [
    {
     "name": "stdout",
     "output_type": "stream",
     "text": [
      "55441\n"
     ]
    }
   ],
   "source": [
    "sm=0\n",
    "for i in data:\n",
    "    sm+=i\n",
    "print(sm)    "
   ]
  },
  {
   "cell_type": "code",
   "execution_count": 50,
   "metadata": {},
   "outputs": [],
   "source": [
    "mean=sm/len(data)"
   ]
  },
  {
   "cell_type": "code",
   "execution_count": 51,
   "metadata": {},
   "outputs": [
    {
     "name": "stdout",
     "output_type": "stream",
     "text": [
      "554.41\n"
     ]
    }
   ],
   "source": [
    "print(mean)"
   ]
  },
  {
   "cell_type": "code",
   "execution_count": 52,
   "metadata": {},
   "outputs": [],
   "source": [
    "d= data"
   ]
  },
  {
   "cell_type": "markdown",
   "metadata": {},
   "source": [
    "The standard deviation, s:"
   ]
  },
  {
   "cell_type": "code",
   "execution_count": 53,
   "metadata": {},
   "outputs": [],
   "source": [
    "d=[(s-mean)**2 for s in data]"
   ]
  },
  {
   "cell_type": "code",
   "execution_count": 54,
   "metadata": {},
   "outputs": [
    {
     "name": "stdout",
     "output_type": "stream",
     "text": [
      "8247376.1899999995\n"
     ]
    }
   ],
   "source": [
    "addition=0\n",
    "for i in d:\n",
    "    addition+=i\n",
    "print(addition)    "
   ]
  },
  {
   "cell_type": "code",
   "execution_count": 55,
   "metadata": {},
   "outputs": [],
   "source": [
    "sd=((addition/len(data)-1))**0.5"
   ]
  },
  {
   "cell_type": "code",
   "execution_count": 56,
   "metadata": {},
   "outputs": [
    {
     "data": {
      "text/plain": [
       "287.18071296659184"
      ]
     },
     "execution_count": 56,
     "metadata": {},
     "output_type": "execute_result"
    }
   ],
   "source": [
    "sd"
   ]
  },
  {
   "cell_type": "markdown",
   "metadata": {},
   "source": [
    "### Problem 5.\n",
    "Pi, π, can be approximated with the Gregory-Leibniz Series\n",
    "π=4∗(11−13+15−17+19−…)\n",
    "\n",
    "The key word here is approximated. You would have to run this forever to actually calculate π\n",
    "\n",
    ". But we can stop wherever we want to get an approximation. The formula above shows the first 5 fractions in the series. What values are printed when you add/subtract the first\n",
    "\n",
    "    10 fractions\n",
    "    100 fractions\n",
    "    1,000 fractions\n",
    "    10,000 fractions\n",
    "    100,000 fractions\n",
    "    1,000,000 fractions\n"
   ]
  },
  {
   "cell_type": "code",
   "execution_count": 57,
   "metadata": {},
   "outputs": [
    {
     "name": "stdout",
     "output_type": "stream",
     "text": [
      "\n",
      "The approximate value of Pi for 10 is:\n",
      "3.232315809405594\n",
      "\n",
      "The approximate value of Pi for 100 is:\n",
      "3.1514934010709914\n",
      "\n",
      "The approximate value of Pi for 1000 is:\n",
      "3.1425916543395442\n",
      "\n",
      "The approximate value of Pi for 10000 is:\n",
      "3.1416926435905346\n",
      "\n",
      "The approximate value of Pi for 100000 is:\n",
      "3.1416026534897203\n",
      "\n",
      "The approximate value of Pi for 1000000 is:\n",
      "3.1415936535887745\n"
     ]
    }
   ],
   "source": [
    "\n",
    "fractions = [10,100,1000,10000,100000,1000000]\n",
    "\n",
    "for fac in fractions:\n",
    "    \n",
    "    total = 0\n",
    "    for i in range(0, fac+1):\n",
    "        \n",
    "        total = total + ((-1)**i)/((2*i) + 1) \n",
    "    value_of_pi = 4*total\n",
    "    \n",
    "    print()\n",
    "    print(\"The approximate value of Pi for\", fac, \"is:\")\n",
    "    print(value_of_pi)"
   ]
  },
  {
   "cell_type": "code",
   "execution_count": null,
   "metadata": {},
   "outputs": [],
   "source": []
  },
  {
   "cell_type": "code",
   "execution_count": null,
   "metadata": {},
   "outputs": [],
   "source": []
  },
  {
   "cell_type": "code",
   "execution_count": null,
   "metadata": {},
   "outputs": [],
   "source": []
  }
 ],
 "metadata": {
  "kernelspec": {
   "display_name": "Python 3",
   "language": "python",
   "name": "python3"
  },
  "language_info": {
   "codemirror_mode": {
    "name": "ipython",
    "version": 3
   },
   "file_extension": ".py",
   "mimetype": "text/x-python",
   "name": "python",
   "nbconvert_exporter": "python",
   "pygments_lexer": "ipython3",
   "version": "3.7.1"
  }
 },
 "nbformat": 4,
 "nbformat_minor": 2
}
