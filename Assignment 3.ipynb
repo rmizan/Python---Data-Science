{
 "cells": [
  {
   "cell_type": "markdown",
   "metadata": {},
   "source": [
    "# Assignment 3"
   ]
  },
  {
   "cell_type": "markdown",
   "metadata": {},
   "source": [
    "## Written by Mizanur Rahman"
   ]
  },
  {
   "cell_type": "markdown",
   "metadata": {},
   "source": [
    "### Problem 1"
   ]
  },
  {
   "cell_type": "markdown",
   "metadata": {},
   "source": [
    " \n",
    "Write a function called countUnique that has one parameter which is a NumPy array. The array will be a list of integers with many repeated values. The function should count how many times each unique integer appears and return the counts. For example, if it is given the array array([3, 3, 3, 1, 1, 3, 1, 1, 3, 2]), it should return the counts [(1, 4), (2, 1), (3, 5)] since 1 appears 4 times, 2 appears once, and 3 appears 5 times.\n",
    "\n",
    "In a separate code cell, create an create a NumPy array of 20 random integers from 1 to 20. Use your countUnique to determine how many times each number appears.\n",
    "\n",
    "In a separate code cell, create an create a NumPy array of 10,000 random integers from 1 to 5. Use your countUnique to determine how many times each number appears.\n"
   ]
  },
  {
   "cell_type": "code",
   "execution_count": 1,
   "metadata": {},
   "outputs": [],
   "source": [
    "import numpy as np"
   ]
  },
  {
   "cell_type": "code",
   "execution_count": 2,
   "metadata": {},
   "outputs": [
    {
     "name": "stdout",
     "output_type": "stream",
     "text": [
      "A list of integers with many repeated values: [(1, 4), (2, 1), (3, 5)]\n"
     ]
    }
   ],
   "source": [
    "NumPy = [3, 3, 3, 1, 1, 3, 1, 1, 3, 2]\n",
    "def countUnique(NumPy):\n",
    "    \n",
    "    result = []\n",
    "\n",
    "    NumPy.sort() # SORTING the array\n",
    "\n",
    "    index = 0\n",
    "\n",
    "    while index < len(NumPy):\n",
    "\n",
    "    # below is for occurrence of each number\n",
    "\n",
    "        one = NumPy[index]\n",
    "\n",
    "        count = 0\n",
    "\n",
    "        while index < len(NumPy) and one == NumPy[index]:\n",
    "\n",
    "            count += 1\n",
    "            index += 1\n",
    "\n",
    "        # putting a tuple of number and it's frequency\n",
    "\n",
    "        result.append((one, count))\n",
    "\n",
    "    return result\n",
    "\n",
    "print('A list of integers with many repeated values:', countUnique(NumPy))\n",
    "        \n",
    "    "
   ]
  },
  {
   "cell_type": "code",
   "execution_count": 3,
   "metadata": {},
   "outputs": [
    {
     "name": "stdout",
     "output_type": "stream",
     "text": [
      "A NumPy array of 20 random integers from 1 to 20: [(1, 2), (2, 1), (4, 1), (5, 2), (6, 2), (8, 1), (9, 3), (11, 1), (12, 1), (16, 1), (17, 3), (18, 1), (19, 1)]\n"
     ]
    }
   ],
   "source": [
    "\n",
    "first = np.random.randint(1, 20, size=20)\n",
    "print('A NumPy array of 20 random integers from 1 to 20:', countUnique(first))"
   ]
  },
  {
   "cell_type": "code",
   "execution_count": 4,
   "metadata": {},
   "outputs": [
    {
     "name": "stdout",
     "output_type": "stream",
     "text": [
      "A NumPy array of 10,000 random integers from 1 to 5: [(1, 2520), (2, 2590), (3, 2444), (4, 2446)]\n"
     ]
    }
   ],
   "source": [
    "second = np.random.randint(1, 5, size = 10000)\n",
    "print('A NumPy array of 10,000 random integers from 1 to 5:', countUnique(second))"
   ]
  },
  {
   "cell_type": "markdown",
   "metadata": {},
   "source": [
    "## Problem 2"
   ]
  },
  {
   "cell_type": "markdown",
   "metadata": {},
   "source": [
    "Write a function called findNumbers that has two parameters. The first parameter, npData, is a NumPy array of integers\n",
    "and the second, n, is an integer. The function should return a new array of all the values in npData that are evenly \n",
    "divisible by n. For example, if the function is give the NumPy array array([7, 4, 9, 1, 0, 6, 3, 5, 2, 8]) and the \n",
    "value 3 for n, then the function should return the NumPy array array([9 0 6 3])\n",
    "\n",
    "In a separate code cell, create an create a array of 20 random integers from 1 to 20. Print the array, and then use your \n",
    "findNumbers to get an array that contains all the numbers evenly divisible by 4. Print the results.\n",
    "\n",
    "In a separate code cell, create an create a array of 250 random integers from 1 to 1000. Print the array, and then use your\n",
    "findNumbers to get an array that contains all the numbers evenly divisible by 10. Print the results.\n"
   ]
  },
  {
   "cell_type": "code",
   "execution_count": 6,
   "metadata": {},
   "outputs": [],
   "source": [
    "def findNumbers(npData,n):              #function to check divisibility\n",
    "    new_list=[]\n",
    "    for element in npData:\n",
    "        if (element % n==0):\n",
    "            new_list.append(element)\n",
    "    nump = np.array(new_list)\n",
    "    return nump"
   ]
  },
  {
   "cell_type": "code",
   "execution_count": 8,
   "metadata": {},
   "outputs": [
    {
     "name": "stdout",
     "output_type": "stream",
     "text": [
      "numpy array: [ 6  5  3 16  9  8 10  2 12  3  9 17  2 16 13 13 10 14 16 10]\n",
      "divisible array: [16  8 12 16 16]\n"
     ]
    }
   ],
   "source": [
    "#An array of 20 random integers from 1 to 20.\n",
    "\n",
    "new_array1 = np.random.randint(20,size=20)           # for random numbers\n",
    "print(\"numpy array:\",new_array1)\n",
    "print(\"divisible array:\",findNumbers(new_array1,4))     #find divisibles of 4\n"
   ]
  },
  {
   "cell_type": "code",
   "execution_count": 9,
   "metadata": {},
   "outputs": [
    {
     "name": "stdout",
     "output_type": "stream",
     "text": [
      "numpy_array: [371 763  89 666 411  33 389 888 906 203 332 414 412 372 414 409 353 969\n",
      " 477 295 711 125 763 166 999 236 699 257 663 601 889 687 843 510 980 544\n",
      " 743 537 405 234 866 233 876 417 378 399 670 121 196 499 730 644 171 647\n",
      " 811 214 148 967 341  35 972 663 947 473 189 474   8 516 248 942 576 821\n",
      " 690 246 768 110 172 636 227 708 598 774 677 932 685 184  57 143 985 530\n",
      " 390 971 819 686 728 786 379 560 609 394 180 984 932 361 837 653 406 592\n",
      " 223   8 608 760 208 766 589 498 845 709 776 573 416 270 989 607 193 158\n",
      " 618 960  53 802 721 719  11  94 320 223 257 125 981 481 655 256  22 905\n",
      " 615 865 603 374 864 883 107 777  38 736 255 803 964 536 573 282 826 604\n",
      " 373 570 748 720 643  67 369  95 892 482 442 427 576 990 168 746 471 557\n",
      " 147 941 903 778 905   4 794 103 145 690 711 616 726 394 175 428 495 754\n",
      " 287 267 400 185 964 130 192 154 884 493 623 892 578 606 660 578 162 248\n",
      " 706 103 996 949  41  17 267 173 680 549 464 762 259 579 512 834 412 782\n",
      " 382 559 546  79 358 766 252 334 737 639 616 249 413 474  82  33]\n",
      "divisible array: [510 980 670 730 690 110 530 390 560 180 760 270 960 320 570 720 990 690\n",
      " 400 130 660 680]\n"
     ]
    }
   ],
   "source": [
    "#an array of 250 random integers from 1 to 1000\n",
    "new_array2 = np.random.randint(1000,size=250)\n",
    "print(\"numpy_array:\",new_array2)\n",
    "print(\"divisible array:\",findNumbers(new_array2,10))       #for divisibles of 10"
   ]
  },
  {
   "cell_type": "markdown",
   "metadata": {},
   "source": [
    "### Problem 3"
   ]
  },
  {
   "cell_type": "markdown",
   "metadata": {},
   "source": [
    "Research how to use NumPy's loadtxt() function. Once you understand it, use it to read the values in the file numbers.txt into a NumPy array. The file has one integer per line. Once you have it in memory, use it to output the following information:\n",
    "\n",
    "    The number of values in the file\n",
    "    The smallest value in the file\n",
    "    The largest value in the file\n",
    "    The average of all the values\n",
    "    The standard deviation of all the values"
   ]
  },
  {
   "cell_type": "code",
   "execution_count": 10,
   "metadata": {},
   "outputs": [],
   "source": [
    "x = np.loadtxt('numbers.txt')"
   ]
  },
  {
   "cell_type": "code",
   "execution_count": 11,
   "metadata": {},
   "outputs": [
    {
     "name": "stdout",
     "output_type": "stream",
     "text": [
      "[681424. 427603. 113386. ... 836135.  81177. 777216.]\n"
     ]
    }
   ],
   "source": [
    "print(x)"
   ]
  },
  {
   "cell_type": "code",
   "execution_count": 12,
   "metadata": {},
   "outputs": [
    {
     "name": "stdout",
     "output_type": "stream",
     "text": [
      "The number of values in the file is: 10000\n"
     ]
    }
   ],
   "source": [
    "print('The number of values in the file is:', np.size(x))"
   ]
  },
  {
   "cell_type": "code",
   "execution_count": 13,
   "metadata": {},
   "outputs": [
    {
     "name": "stdout",
     "output_type": "stream",
     "text": [
      "The smallest value in the file is: 81.0\n"
     ]
    }
   ],
   "source": [
    "print('The smallest value in the file is:', np.min(x))"
   ]
  },
  {
   "cell_type": "code",
   "execution_count": 14,
   "metadata": {},
   "outputs": [
    {
     "name": "stdout",
     "output_type": "stream",
     "text": [
      "The largest value in the file is: 999989.0\n"
     ]
    }
   ],
   "source": [
    "print('The largest value in the file is:', np.max(x))"
   ]
  },
  {
   "cell_type": "code",
   "execution_count": 18,
   "metadata": {},
   "outputs": [],
   "source": [
    "#np.argmin(x)+1"
   ]
  },
  {
   "cell_type": "code",
   "execution_count": 19,
   "metadata": {},
   "outputs": [],
   "source": [
    "#np.argmax(x)+1"
   ]
  },
  {
   "cell_type": "code",
   "execution_count": 20,
   "metadata": {},
   "outputs": [
    {
     "name": "stdout",
     "output_type": "stream",
     "text": [
      "The average of all the values: 502164.309\n"
     ]
    }
   ],
   "source": [
    "print('The average of all the values:', np.mean(x))"
   ]
  },
  {
   "cell_type": "code",
   "execution_count": 21,
   "metadata": {},
   "outputs": [
    {
     "name": "stdout",
     "output_type": "stream",
     "text": [
      "The standard deviation of all the values: 289261.0973415335\n"
     ]
    }
   ],
   "source": [
    "print('The standard deviation of all the values:', np.std(x))"
   ]
  },
  {
   "cell_type": "markdown",
   "metadata": {},
   "source": [
    "### Problem 4"
   ]
  },
  {
   "cell_type": "markdown",
   "metadata": {},
   "source": [
    "Use loadtxt() to read the file values.txt. This file has three integers per line. When you read it, it should create a two-dimensional array. Once you have the data in memory, use it to output the following information:\n",
    "\n",
    "    The number of lines in the file\n",
    "    The number of values in the file\n",
    "    The number of lines that contain the value 0\n",
    "    The largest value on each line\n",
    "    The number of rows where at least one value is repeated, e.g. [42, 3, 42] contains the repeated value 42"
   ]
  },
  {
   "cell_type": "code",
   "execution_count": 22,
   "metadata": {},
   "outputs": [],
   "source": [
    "data2d = np.loadtxt('values.txt')"
   ]
  },
  {
   "cell_type": "code",
   "execution_count": 23,
   "metadata": {},
   "outputs": [
    {
     "name": "stdout",
     "output_type": "stream",
     "text": [
      "Contents of 2D Numpy Array:\n",
      "[[ 12.  78.  52.]\n",
      " [ 26.  47.  11.]\n",
      " [ 76.  20.  64.]\n",
      " [ 35.  70.  92.]\n",
      " [ 55.  92.  62.]\n",
      " [ 85.  90.  60.]\n",
      " [ 84.  21.  73.]\n",
      " [  4.  62.  18.]\n",
      " [  9.  92.   7.]\n",
      " [ 24.  52.  77.]\n",
      " [  5.  60.  78.]\n",
      " [ 10.  43.  91.]\n",
      " [  4.  52.  82.]\n",
      " [ 73.  44.  86.]\n",
      " [ 18.  91.  80.]\n",
      " [ 54.  91.  27.]\n",
      " [ 67.  67.  23.]\n",
      " [ 19.  43.  48.]\n",
      " [ 72.  53.  24.]\n",
      " [ 17.  77.  91.]\n",
      " [ 85.  43.  29.]\n",
      " [ 64.  54.  82.]\n",
      " [ 60.  24.  65.]\n",
      " [ 89.  37.  44.]\n",
      " [ 88.  30.  13.]\n",
      " [ 62.  75.  49.]\n",
      " [ 83.   9.  87.]\n",
      " [ 28.  22.  12.]\n",
      " [ 25.  27.  22.]\n",
      " [ 10.  21.   1.]\n",
      " [ 93.  11.  49.]\n",
      " [ 48.  98.  40.]\n",
      " [ 70.  37.  34.]\n",
      " [ 71.  40.  83.]\n",
      " [ 57.  92.  29.]\n",
      " [ 15.  87.  80.]\n",
      " [ 95.  95.  23.]\n",
      " [ 21.  36.  83.]\n",
      " [ 41.  43.  95.]\n",
      " [  3.  52.  12.]\n",
      " [ 55. 100.  57.]\n",
      " [ 71.   4.  92.]\n",
      " [ 57.  34.  57.]\n",
      " [ 29.  65.   5.]\n",
      " [ 17.  86.  74.]\n",
      " [ 31.  98.  78.]\n",
      " [ 60.  96.  37.]\n",
      " [ 22.  34.  53.]\n",
      " [ 30.  30.   9.]\n",
      " [ 34.  52.  39.]\n",
      " [ 37.  61.  50.]\n",
      " [ 43.  16.  18.]\n",
      " [ 57.  34.  56.]\n",
      " [ 83.  35.  55.]\n",
      " [ 12.  48.  12.]\n",
      " [ 90.  93.  28.]\n",
      " [ 10.   4.  66.]\n",
      " [ 64.  29. 100.]\n",
      " [  6.  84.  21.]\n",
      " [ 48.  87.  71.]\n",
      " [ 50.  34.   7.]\n",
      " [ 54.  11.  30.]\n",
      " [ 12.  39.  11.]\n",
      " [ 66.  49.  12.]\n",
      " [ 41.  84.  83.]\n",
      " [ 38.  89.  11.]\n",
      " [ 89.  15.  94.]\n",
      " [ 53.  92.  59.]\n",
      " [ 83.  11.  16.]\n",
      " [ 71.  60.  68.]\n",
      " [ 57.  34.  70.]\n",
      " [ 33.   0.   1.]\n",
      " [ 22.  39.   3.]\n",
      " [ 53.  92.  20.]\n",
      " [ 67.  68.   6.]\n",
      " [ 58.  19.  33.]\n",
      " [ 26.  20.  55.]\n",
      " [ 26.  67.  42.]\n",
      " [ 97.  67.  30.]\n",
      " [ 22.  85.  94.]\n",
      " [ 87.  29.  87.]\n",
      " [ 44.   2.   8.]\n",
      " [ 77.  14.  35.]\n",
      " [ 82.  76.  66.]\n",
      " [ 63.   5.  66.]\n",
      " [  8.  93.  37.]\n",
      " [ 51.  78.  23.]\n",
      " [ 11.  45.  60.]\n",
      " [ 19.  62.  73.]\n",
      " [ 61.  66.  86.]\n",
      " [ 64.  22.  70.]\n",
      " [ 29.  69.   1.]\n",
      " [  4.  28.  94.]\n",
      " [ 85.  31.  98.]\n",
      " [ 31.  61.  22.]\n",
      " [ 81.  80.  44.]\n",
      " [ 56.  24.  10.]\n",
      " [ 11.  17.  34.]\n",
      " [ 53.  67.   5.]\n",
      " [ 51.  96.  73.]\n",
      " [ 75.  46.  34.]\n",
      " [ 38.  29.  63.]\n",
      " [ 79.  11.  92.]\n",
      " [ 52.  10.  61.]\n",
      " [ 27.   1.  39.]\n",
      " [ 57.  18.  61.]\n",
      " [ 90.  94.  32.]\n",
      " [ 29.  10.  81.]\n",
      " [ 79.  83.  53.]\n",
      " [ 81.  91.  80.]\n",
      " [ 93.   4.   8.]\n",
      " [ 16.  10.  10.]\n",
      " [ 33.  19.  29.]\n",
      " [ 19.  64.  59.]\n",
      " [ 23.  91.  20.]\n",
      " [ 53.  46.  39.]\n",
      " [ 73.  20.  44.]\n",
      " [  0.  58.  11.]\n",
      " [ 75.  71.  51.]\n",
      " [  1.  19.  54.]\n",
      " [ 26.  54.  44.]\n",
      " [ 35.  15.  87.]\n",
      " [ 76.  36.  95.]\n",
      " [ 67.  49.  47.]\n",
      " [  9.  41.   5.]\n",
      " [ 65.   6.  75.]\n",
      " [ 33.   5.  67.]\n",
      " [ 14.  89.  75.]\n",
      " [ 27.  73.  15.]\n",
      " [ 14.  23.  85.]\n",
      " [ 84.  39.  64.]\n",
      " [ 39.  47.  70.]\n",
      " [ 28.  56.  19.]\n",
      " [100.  87.  29.]\n",
      " [  7.  21.  69.]\n",
      " [ 50.  73.  86.]\n",
      " [ 41.  26.  42.]\n",
      " [ 49.  83.  50.]\n",
      " [  9.  62.  53.]\n",
      " [  6.  58.  42.]\n",
      " [ 25.  58.  70.]\n",
      " [ 25.  45.  13.]\n",
      " [ 69.  77.   5.]\n",
      " [ 31.   6.  75.]\n",
      " [ 88.   2.  22.]\n",
      " [ 48.  52.  15.]\n",
      " [  2.  45.  70.]\n",
      " [ 19.  68.  52.]\n",
      " [  2.  16.   6.]\n",
      " [ 27.  99.  71.]\n",
      " [ 20. 100.  37.]\n",
      " [ 17.   2.  89.]\n",
      " [  8.  65.  96.]\n",
      " [ 79.   4.  93.]\n",
      " [ 68.   2.  50.]\n",
      " [ 68.  31.  13.]\n",
      " [ 27.  49.  76.]\n",
      " [ 70.  29.  47.]\n",
      " [ 85.  63.  21.]\n",
      " [ 37.  91.  57.]\n",
      " [ 72.  26.  78.]\n",
      " [  9.  53.  59.]\n",
      " [ 18.  55.  12.]\n",
      " [ 61.  73.  45.]\n",
      " [ 97.  15.  89.]\n",
      " [ 56.   0.  99.]\n",
      " [ 12.  66.  10.]\n",
      " [ 97.  98.  34.]\n",
      " [ 60.  37.  18.]\n",
      " [ 27.  85.  24.]\n",
      " [ 62.  45.  63.]\n",
      " [ 36.  20.  45.]\n",
      " [100.  90. 100.]\n",
      " [ 54.  24.  23.]\n",
      " [ 84.  23.  97.]\n",
      " [ 90.  97.  56.]\n",
      " [ 19.  62.   3.]\n",
      " [ 24.  48.  68.]\n",
      " [ 38.  23.  90.]\n",
      " [ 19.  31.  32.]\n",
      " [ 10.  91.  69.]\n",
      " [ 56.  41.  24.]\n",
      " [ 89.  26.  71.]\n",
      " [ 19.  61.  74.]\n",
      " [ 45.  52.  85.]\n",
      " [ 61.  61.  95.]\n",
      " [ 70.  71.  13.]\n",
      " [ 75.   9.  30.]\n",
      " [ 93.  66.  17.]\n",
      " [  2.  33.  90.]\n",
      " [ 32.  21.   4.]\n",
      " [ 41. 100.  81.]\n",
      " [  7.  37.  30.]\n",
      " [ 94.  26.  13.]\n",
      " [ 26.  45.  80.]\n",
      " [ 69.  47.  25.]\n",
      " [ 44.  53.  45.]\n",
      " [ 62.  76.  28.]\n",
      " [ 91.  42.  83.]\n",
      " [ 17.  24.  56.]]\n"
     ]
    }
   ],
   "source": [
    "print('Contents of 2D Numpy Array:', data2d, sep='\\n')"
   ]
  },
  {
   "cell_type": "code",
   "execution_count": 24,
   "metadata": {},
   "outputs": [
    {
     "name": "stdout",
     "output_type": "stream",
     "text": [
      "The number of lines in a 2d data is:\n",
      "200\n"
     ]
    }
   ],
   "source": [
    "print('The number of lines in a 2d data is:')\n",
    "count = 0\n",
    "for lines in data2d:\n",
    "    #if lines.strip():\n",
    "        count +=1\n",
    "print(count)"
   ]
  },
  {
   "cell_type": "code",
   "execution_count": 25,
   "metadata": {},
   "outputs": [
    {
     "name": "stdout",
     "output_type": "stream",
     "text": [
      "The number of values in the file: 600\n"
     ]
    }
   ],
   "source": [
    "print('The number of values in the file:', np.prod(data2d.shape))"
   ]
  },
  {
   "cell_type": "code",
   "execution_count": 26,
   "metadata": {},
   "outputs": [
    {
     "name": "stdout",
     "output_type": "stream",
     "text": [
      "The number of lines that contain the value 0 with index number is:\n"
     ]
    },
    {
     "data": {
      "text/plain": [
       "array([[ 72,   2],\n",
       "       [118,   1],\n",
       "       [166,   2]], dtype=int64)"
      ]
     },
     "execution_count": 26,
     "metadata": {},
     "output_type": "execute_result"
    }
   ],
   "source": [
    "print('The number of lines that contain the value 0 with index number is:')\n",
    "np.argwhere(data2d == 0) + 1"
   ]
  },
  {
   "cell_type": "code",
   "execution_count": 27,
   "metadata": {},
   "outputs": [
    {
     "name": "stdout",
     "output_type": "stream",
     "text": [
      "The largest value on each line: \n",
      "[ 78.  47.  76.  92.  92.  90.  84.  62.  92.  77.  78.  91.  82.  86.\n",
      "  91.  91.  67.  48.  72.  91.  85.  82.  65.  89.  88.  75.  87.  28.\n",
      "  27.  21.  93.  98.  70.  83.  92.  87.  95.  83.  95.  52. 100.  92.\n",
      "  57.  65.  86.  98.  96.  53.  30.  52.  61.  43.  57.  83.  48.  93.\n",
      "  66. 100.  84.  87.  50.  54.  39.  66.  84.  89.  94.  92.  83.  71.\n",
      "  70.  33.  39.  92.  68.  58.  55.  67.  97.  94.  87.  44.  77.  82.\n",
      "  66.  93.  78.  60.  73.  86.  70.  69.  94.  98.  61.  81.  56.  34.\n",
      "  67.  96.  75.  63.  92.  61.  39.  61.  94.  81.  83.  91.  93.  16.\n",
      "  33.  64.  91.  53.  73.  58.  75.  54.  54.  87.  95.  67.  41.  75.\n",
      "  67.  89.  73.  85.  84.  70.  56. 100.  69.  86.  42.  83.  62.  58.\n",
      "  70.  45.  77.  75.  88.  52.  70.  68.  16.  99. 100.  89.  96.  93.\n",
      "  68.  68.  76.  70.  85.  91.  78.  59.  55.  73.  97.  99.  66.  98.\n",
      "  60.  85.  63.  45. 100.  54.  97.  97.  62.  68.  90.  32.  91.  56.\n",
      "  89.  74.  85.  95.  71.  75.  93.  90.  32. 100.  37.  94.  80.  69.\n",
      "  53.  76.  91.  56.]\n"
     ]
    }
   ],
   "source": [
    "maxInRows = np.amax(data2d, axis=1)\n",
    " \n",
    "print('The largest value on each line: ', maxInRows, sep='\\n')"
   ]
  },
  {
   "cell_type": "code",
   "execution_count": 28,
   "metadata": {},
   "outputs": [
    {
     "name": "stdout",
     "output_type": "stream",
     "text": [
      "The number of rows where at least one value is repeated: 27\n"
     ]
    }
   ],
   "source": [
    "nofr=0\n",
    "for row in data2d:\n",
    "    for value in row:\n",
    "        if row[0]==row[1] or row[0]==row[2] or row[1]==row[2] or row[0]==row[1]==row[2]:\n",
    "            nofr+=1\n",
    "print('The number of rows where at least one value is repeated:', nofr) "
   ]
  },
  {
   "cell_type": "markdown",
   "metadata": {},
   "source": [
    "## Problem 5"
   ]
  },
  {
   "cell_type": "markdown",
   "metadata": {},
   "source": [
    "    Use loadtxt() to read the file words.txt. This file has one word per line. The words are all lowercase and there are no punctuation characters - only letters\n",
    "\n",
    "    NumPy arrays can hold strings too. There is one caveat to strings: when NumPy reads strings it sets a max length for the column. The default is 31. The reason for this is that it makes NumPy more efficient in memory. You can change the max length by setting the data type for loadtxt() to dtype='U50'. This says that the strings can now be up to 50 characters. Once you have the data in memory, use it to do the following:\n",
    "        Sort it and write all the words out to the text file named sortedWords.txt. Make sure you can open the file in a text editor and view the contents.\n",
    "        For each letter, find the longest word. That is find the longest word that starts with a, and then the longest word that starts with b, and so on.\n",
    "\n",
    "Ensure that all output is labeled descriptively. It should be obvious what each value means. "
   ]
  },
  {
   "cell_type": "code",
   "execution_count": 29,
   "metadata": {},
   "outputs": [],
   "source": [
    "data3 = np.loadtxt('words.txt', dtype='U50')\n",
    "#data3 = np.loadtxt('words.txt', delimiter=chr(164),comments=\"#\",dtype='U50')"
   ]
  },
  {
   "cell_type": "code",
   "execution_count": 30,
   "metadata": {},
   "outputs": [
    {
     "data": {
      "text/plain": [
       "array(['exoccipital', 'unobsceneness', 'polyaxonic', ..., 'overstraight',\n",
       "       'flute', 'predefective'], dtype='<U50')"
      ]
     },
     "execution_count": 30,
     "metadata": {},
     "output_type": "execute_result"
    }
   ],
   "source": [
    "data3"
   ]
  },
  {
   "cell_type": "code",
   "execution_count": 31,
   "metadata": {},
   "outputs": [],
   "source": [
    "data4=np.sort(data3, axis = None)"
   ]
  },
  {
   "cell_type": "code",
   "execution_count": 32,
   "metadata": {},
   "outputs": [],
   "source": [
    "#Sort it and write all the words out to the text file named sortedWords.txt.\n",
    "np.savetxt('sortedWords.txt', data4, fmt='%s')"
   ]
  },
  {
   "cell_type": "code",
   "execution_count": 33,
   "metadata": {},
   "outputs": [
    {
     "name": "stdout",
     "output_type": "stream",
     "text": [
      "The longest word that starts with a, and then the longest word that starts with b, and so on:\n",
      "\n",
      "a antidisestablishmentarianism\n",
      "\n",
      "b blepharosphincterectomy\n",
      "\n",
      "c cyclotrimethylenetrinitramine\n",
      "\n",
      "d dichlorodiphenyltrichloroethane\n",
      "\n",
      "e electroencephalographically\n",
      "\n",
      "f formaldehydesulphoxylate\n",
      "\n",
      "g gastroenteroanastomosis\n",
      "\n",
      "h hydroxydehydrocorticosterone\n",
      "\n",
      "i immunoelectrophoretically\n",
      "\n",
      "j jurisprudentialist\n",
      "\n",
      "k keratoconjunctivitis\n",
      "\n",
      "l laparocolpohysterotomy\n",
      "\n",
      "m microspectrophotometrically\n",
      "\n",
      "n naphthylaminesulphonic\n",
      "\n",
      "o overindividualistically\n",
      "\n",
      "p pneumonoultramicroscopicsilicovolcanoconiosis\n",
      "\n",
      "q quattuordecillionth\n",
      "\n",
      "r representationalistic\n",
      "\n",
      "s superincomprehensibleness\n",
      "\n",
      "t trinitrophenylmethylnitramine\n",
      "\n",
      "u ultranationalistically\n",
      "\n",
      "v vagoglossopharyngeal\n",
      "\n",
      "w westnorthwestwardly\n",
      "\n",
      "x xanthocreatinine\n",
      "\n",
      "y yohimbinization\n",
      "\n",
      "z zoologicoarchaeologist\n"
     ]
    }
   ],
   "source": [
    "print('The longest word that starts with a, and then the longest word that starts with b, and so on:')\n",
    "alphabets=['a','b','c','d','e','f','g','h','i','j','k','l','m','n','o','p','q','r','s','t','u','v','w','x','y','z']\n",
    "for letter in alphabets:\n",
    "    let=[]\n",
    "    wds=[]\n",
    "    for data in data4:\n",
    "        if letter==data[0]:\n",
    "            lend=len(data)\n",
    "            let.append(lend)\n",
    "            wds.append(data)          \n",
    "    maxl=max(let)\n",
    "    ind=let.index(maxl)\n",
    "    lng=wds[ind]\n",
    "\n",
    "    print()\n",
    "    print(letter,lng)\n",
    "            \n",
    "            \n",
    "    "
   ]
  },
  {
   "cell_type": "code",
   "execution_count": null,
   "metadata": {},
   "outputs": [],
   "source": []
  }
 ],
 "metadata": {
  "kernelspec": {
   "display_name": "Python 3",
   "language": "python",
   "name": "python3"
  },
  "language_info": {
   "codemirror_mode": {
    "name": "ipython",
    "version": 3
   },
   "file_extension": ".py",
   "mimetype": "text/x-python",
   "name": "python",
   "nbconvert_exporter": "python",
   "pygments_lexer": "ipython3",
   "version": "3.7.1"
  }
 },
 "nbformat": 4,
 "nbformat_minor": 2
}
